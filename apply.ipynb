{
 "cells": [
  {
   "cell_type": "markdown",
   "id": "d5fc7b1d-0b50-489a-add9-acb39e520f2f",
   "metadata": {},
   "source": [
    "문제1. \n",
    "- 입력개체의 원소를 모두 제곱한 후 그원소를 더한 다음 제곱근을 취하는 사용자 정의 함수 생성\n",
    "- [3,5,9,20]의 출력값"
   ]
  },
  {
   "cell_type": "code",
   "execution_count": 2,
   "id": "af9bc601-5838-4f3f-8001-08dbd85064b8",
   "metadata": {},
   "outputs": [],
   "source": [
    "import pandas as pd\n",
    "import numpy as np"
   ]
  },
  {
   "cell_type": "code",
   "execution_count": 6,
   "id": "544668c2-3591-48cd-88aa-23c029d4f356",
   "metadata": {},
   "outputs": [],
   "source": [
    "def sum_squared(x):\n",
    "    x_squared = x**2\n",
    "    x_sum = np.sum(x_squared)\n",
    "    x_fin = x_sum**0.5\n",
    "    print(x_fin)\n",
    "    "
   ]
  },
  {
   "cell_type": "code",
   "execution_count": 9,
   "id": "28cb7d81-8f03-4659-826d-6402618d41ac",
   "metadata": {},
   "outputs": [
    {
     "name": "stdout",
     "output_type": "stream",
     "text": [
      "22.693611435820433\n"
     ]
    }
   ],
   "source": [
    "sum_squared(pd.Series([3,5,9,20])) #답 22.69"
   ]
  },
  {
   "cell_type": "code",
   "execution_count": 27,
   "id": "8e7c5eb6-7a01-4e65-8812-b7e3249db8a1",
   "metadata": {},
   "outputs": [],
   "source": [
    "def my_Standardization(x):\n",
    "    result = (x-np.mean(x))/x.std()\n",
    "    return result\n"
   ]
  },
  {
   "cell_type": "code",
   "execution_count": 28,
   "id": "b28b7e07-a55c-49a4-ae47-29d59ffa48aa",
   "metadata": {},
   "outputs": [
    {
     "data": {
      "text/plain": [
       "0   -1.437957\n",
       "1    0.130723\n",
       "2    0.479319\n",
       "3    0.827915\n",
       "dtype: float64"
      ]
     },
     "execution_count": 28,
     "metadata": {},
     "output_type": "execute_result"
    }
   ],
   "source": [
    "my_Standardization(pd.Series([-4,5,7,9]))"
   ]
  },
  {
   "cell_type": "code",
   "execution_count": 20,
   "id": "fd592836-4ec0-4a82-b955-3a31432d16fe",
   "metadata": {},
   "outputs": [],
   "source": [
    "x = pd.Series([-4,5,7,9])"
   ]
  },
  {
   "cell_type": "code",
   "execution_count": 32,
   "id": "23fad7c2-fe28-4800-85d6-bcafd975d7b2",
   "metadata": {},
   "outputs": [
    {
     "data": {
      "text/plain": [
       "4.968651728587948"
      ]
     },
     "execution_count": 32,
     "metadata": {},
     "output_type": "execute_result"
    }
   ],
   "source": [
    "np.std(x)"
   ]
  },
  {
   "cell_type": "code",
   "execution_count": 26,
   "id": "ceae1e88-3b3b-4f40-add1-161465a662cf",
   "metadata": {},
   "outputs": [
    {
     "data": {
      "text/plain": [
       "5.737304826019502"
      ]
     },
     "execution_count": 26,
     "metadata": {},
     "output_type": "execute_result"
    }
   ],
   "source": [
    "x.std()"
   ]
  },
  {
   "cell_type": "code",
   "execution_count": 23,
   "id": "d2b830fe-2603-48d8-a220-bc4c470cad25",
   "metadata": {},
   "outputs": [
    {
     "data": {
      "text/plain": [
       "4.25"
      ]
     },
     "execution_count": 23,
     "metadata": {},
     "output_type": "execute_result"
    }
   ],
   "source": [
    "x.mean()"
   ]
  },
  {
   "cell_type": "code",
   "execution_count": 24,
   "id": "ad32f08b-2192-4c9b-806a-8ccd9d58717a",
   "metadata": {},
   "outputs": [
    {
     "data": {
      "text/plain": [
       "4.25"
      ]
     },
     "execution_count": 24,
     "metadata": {},
     "output_type": "execute_result"
    }
   ],
   "source": [
    "np.mean(x)"
   ]
  },
  {
   "cell_type": "code",
   "execution_count": 33,
   "id": "7f01030f-16b2-415d-9da6-f4d1f255db1f",
   "metadata": {},
   "outputs": [
    {
     "data": {
      "text/plain": [
       "32.916666666666664"
      ]
     },
     "execution_count": 33,
     "metadata": {},
     "output_type": "execute_result"
    }
   ],
   "source": [
    "x.var()"
   ]
  },
  {
   "cell_type": "code",
   "execution_count": 34,
   "id": "84e47491-5795-4939-a67c-100a86bcbe70",
   "metadata": {},
   "outputs": [
    {
     "data": {
      "text/plain": [
       "24.6875"
      ]
     },
     "execution_count": 34,
     "metadata": {},
     "output_type": "execute_result"
    }
   ],
   "source": [
    "np.var(x)"
   ]
  },
  {
   "cell_type": "code",
   "execution_count": 41,
   "id": "e3543962-0029-4004-9e80-f9c56ccd39ee",
   "metadata": {},
   "outputs": [
    {
     "data": {
      "text/plain": [
       "0.816496580927726"
      ]
     },
     "execution_count": 41,
     "metadata": {},
     "output_type": "execute_result"
    }
   ],
   "source": [
    "np.array([1,2,3]).std()"
   ]
  },
  {
   "cell_type": "code",
   "execution_count": 40,
   "id": "ad2b7e56-9a10-49ee-a98f-1e5e8eba4b14",
   "metadata": {},
   "outputs": [
    {
     "data": {
      "text/plain": [
       "0.816496580927726"
      ]
     },
     "execution_count": 40,
     "metadata": {},
     "output_type": "execute_result"
    }
   ],
   "source": [
    "np.std(np.array([1,2,3]))"
   ]
  },
  {
   "cell_type": "markdown",
   "id": "d1527aa8-e9cd-4440-8274-d42638b97071",
   "metadata": {},
   "source": [
    "문제 3. min-max 함수 정의"
   ]
  },
  {
   "cell_type": "code",
   "execution_count": 42,
   "id": "a4f3eb8a-6a6d-4a5c-a6db-67e314b33eb2",
   "metadata": {},
   "outputs": [],
   "source": [
    "def my_mixmax(x):\n",
    "    result = (x-x.min())/(x.max()-x.min())\n",
    "    return result"
   ]
  },
  {
   "cell_type": "code",
   "execution_count": 43,
   "id": "e605d491-df6c-4f23-b11b-c1d2e86add34",
   "metadata": {},
   "outputs": [
    {
     "data": {
      "text/plain": [
       "0    0.000000\n",
       "1    0.692308\n",
       "2    0.846154\n",
       "3    1.000000\n",
       "dtype: float64"
      ]
     },
     "execution_count": 43,
     "metadata": {},
     "output_type": "execute_result"
    }
   ],
   "source": [
    "my_mixmax(pd.Series([-4,5,7,9]))"
   ]
  },
  {
   "cell_type": "code",
   "execution_count": null,
   "id": "82470926-1a39-4a55-8d4e-2693ba91d1e9",
   "metadata": {},
   "outputs": [],
   "source": []
  }
 ],
 "metadata": {
  "kernelspec": {
   "display_name": "Python 3 (ipykernel)",
   "language": "python",
   "name": "python3"
  },
  "language_info": {
   "codemirror_mode": {
    "name": "ipython",
    "version": 3
   },
   "file_extension": ".py",
   "mimetype": "text/x-python",
   "name": "python",
   "nbconvert_exporter": "python",
   "pygments_lexer": "ipython3",
   "version": "3.9.7"
  },
  "widgets": {
   "application/vnd.jupyter.widget-state+json": {
    "state": {},
    "version_major": 2,
    "version_minor": 0
   }
  }
 },
 "nbformat": 4,
 "nbformat_minor": 5
}
