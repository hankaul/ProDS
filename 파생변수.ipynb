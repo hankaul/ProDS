{
 "cells": [
  {
   "cell_type": "code",
   "execution_count": 3,
   "id": "aed617ad-9238-4d62-be32-a758caec0308",
   "metadata": {},
   "outputs": [],
   "source": [
    "import pandas as pd"
   ]
  },
  {
   "cell_type": "code",
   "execution_count": 5,
   "id": "6eed2dcc-12cc-424c-8779-20a12d0128a0",
   "metadata": {},
   "outputs": [],
   "source": [
    "df = pd.read_csv('data2/bike.csv')"
   ]
  },
  {
   "cell_type": "markdown",
   "id": "19d2ad5b-3ed3-4662-af6b-a0bd8affd516",
   "metadata": {},
   "source": [
    "문제1. temp 변수와 atemp 변수 차이의 절대값 평균은?"
   ]
  },
  {
   "cell_type": "code",
   "execution_count": 10,
   "id": "bc39d55c-0937-4abf-8633-adb53b244097",
   "metadata": {},
   "outputs": [
    {
     "data": {
      "text/plain": [
       "3.509"
      ]
     },
     "execution_count": 10,
     "metadata": {},
     "output_type": "execute_result"
    }
   ],
   "source": [
    "round(abs(df['temp'] - df['atemp']).mean(),3) #답 3.509"
   ]
  },
  {
   "cell_type": "markdown",
   "id": "ae9b3d20-794a-4652-8a5e-b3c17b7c336c",
   "metadata": {},
   "source": [
    "문제2. casual 값의 최대값이 25가 넘은 날은 총 며칠인가?"
   ]
  },
  {
   "cell_type": "code",
   "execution_count": 12,
   "id": "d407f188-4afa-40d9-a916-4f62b5bc29e9",
   "metadata": {},
   "outputs": [
    {
     "name": "stdout",
     "output_type": "stream",
     "text": [
      "<class 'pandas.core.frame.DataFrame'>\n",
      "RangeIndex: 10886 entries, 0 to 10885\n",
      "Data columns (total 12 columns):\n",
      " #   Column      Non-Null Count  Dtype  \n",
      "---  ------      --------------  -----  \n",
      " 0   datetime    10886 non-null  object \n",
      " 1   season      10886 non-null  int64  \n",
      " 2   holiday     10886 non-null  int64  \n",
      " 3   workingday  10886 non-null  int64  \n",
      " 4   weather     10886 non-null  int64  \n",
      " 5   temp        10886 non-null  float64\n",
      " 6   atemp       10886 non-null  float64\n",
      " 7   humidity    10886 non-null  int64  \n",
      " 8   windspeed   10886 non-null  float64\n",
      " 9   casual      10886 non-null  int64  \n",
      " 10  registered  10886 non-null  int64  \n",
      " 11  count       10886 non-null  int64  \n",
      "dtypes: float64(3), int64(8), object(1)\n",
      "memory usage: 1020.7+ KB\n"
     ]
    }
   ],
   "source": [
    "df.info()"
   ]
  },
  {
   "cell_type": "code",
   "execution_count": 14,
   "id": "e03e2a41-3e5a-42cc-bd90-d6813b93b77a",
   "metadata": {},
   "outputs": [],
   "source": [
    "df['datetime'] = pd.to_datetime(df['datetime'])"
   ]
  },
  {
   "cell_type": "code",
   "execution_count": 16,
   "id": "3db3d8b5-d30a-41aa-a3d4-761eadd14175",
   "metadata": {},
   "outputs": [],
   "source": [
    "df['date']=df['datetime'].dt.date"
   ]
  },
  {
   "cell_type": "code",
   "execution_count": 23,
   "id": "49eb2288-6b84-4120-9275-bcb3d893849a",
   "metadata": {},
   "outputs": [],
   "source": [
    "df_25 = df.loc[df['casual']>25,:]"
   ]
  },
  {
   "cell_type": "code",
   "execution_count": 30,
   "id": "d9675e18-6437-4534-89f4-94709de42454",
   "metadata": {},
   "outputs": [
    {
     "data": {
      "text/plain": [
       "384"
      ]
     },
     "execution_count": 30,
     "metadata": {},
     "output_type": "execute_result"
    }
   ],
   "source": [
    "len(df_25.groupby('date')['casual'].count()) #답 384"
   ]
  },
  {
   "cell_type": "code",
   "execution_count": 33,
   "id": "6f37938f-1d0d-4a87-b440-7ef74cf04337",
   "metadata": {},
   "outputs": [],
   "source": [
    "df2_25 = df.groupby('date')['casual'].max().reset_index()"
   ]
  },
  {
   "cell_type": "code",
   "execution_count": 35,
   "id": "f5f29b85-7aef-4f49-9e08-ad4e84327ea5",
   "metadata": {},
   "outputs": [
    {
     "data": {
      "text/plain": [
       "384"
      ]
     },
     "execution_count": 35,
     "metadata": {},
     "output_type": "execute_result"
    }
   ],
   "source": [
    "len(df2_25.loc[df2_25['casual']>25,:])"
   ]
  },
  {
   "cell_type": "markdown",
   "id": "068d0739-7bb1-45bb-8cb2-bd1ea0ea7720",
   "metadata": {},
   "source": [
    "문제 3. 시간대별 registered 평균을 산출했을 때 값이 가장 큰 시간은?"
   ]
  },
  {
   "cell_type": "code",
   "execution_count": 39,
   "id": "823d5bb7-2872-44ed-8015-c77bfe41b601",
   "metadata": {},
   "outputs": [],
   "source": [
    "df['hour']=df['datetime'].dt.hour"
   ]
  },
  {
   "cell_type": "code",
   "execution_count": 50,
   "id": "94708141-3860-4161-9835-25a60e97b52f",
   "metadata": {},
   "outputs": [],
   "source": [
    "df_max = df.groupby('hour')['registered'].mean().idxmax()"
   ]
  },
  {
   "cell_type": "code",
   "execution_count": 51,
   "id": "576d673d-534f-41f1-a8ea-80d029acaba2",
   "metadata": {},
   "outputs": [
    {
     "data": {
      "text/plain": [
       "17"
      ]
     },
     "execution_count": 51,
     "metadata": {},
     "output_type": "execute_result"
    }
   ],
   "source": [
    "df_max #답 17"
   ]
  },
  {
   "cell_type": "code",
   "execution_count": null,
   "id": "e365773d-e8c9-407d-aaa0-da0ec723b5e1",
   "metadata": {},
   "outputs": [],
   "source": []
  }
 ],
 "metadata": {
  "kernelspec": {
   "display_name": "Python 3 (ipykernel)",
   "language": "python",
   "name": "python3"
  },
  "language_info": {
   "codemirror_mode": {
    "name": "ipython",
    "version": 3
   },
   "file_extension": ".py",
   "mimetype": "text/x-python",
   "name": "python",
   "nbconvert_exporter": "python",
   "pygments_lexer": "ipython3",
   "version": "3.9.7"
  },
  "widgets": {
   "application/vnd.jupyter.widget-state+json": {
    "state": {},
    "version_major": 2,
    "version_minor": 0
   }
  }
 },
 "nbformat": 4,
 "nbformat_minor": 5
}
