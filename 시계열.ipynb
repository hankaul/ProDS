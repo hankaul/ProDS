{
 "cells": [
  {
   "cell_type": "code",
   "execution_count": 66,
   "id": "7146b551-3217-46e8-a657-f4c9e0683a76",
   "metadata": {},
   "outputs": [],
   "source": [
    "from matplotlib import rc\n",
    "import matplotlib.font_manager as fm\n",
    "#fm._rebuild()\n",
    "fm.get_fontconfig_fonts()\n",
    "\n",
    "font_location = './NanumGothic.ttf'\n",
    "\n",
    "font_name = fm.FontProperties(fname = font_location).get_name()\n",
    "rc('font',family=font_name)"
   ]
  },
  {
   "cell_type": "code",
   "execution_count": 67,
   "id": "9a6f46e3-214f-4db0-9ce4-c3d9297204fd",
   "metadata": {},
   "outputs": [],
   "source": [
    "import pandas as pd"
   ]
  },
  {
   "cell_type": "code",
   "execution_count": 68,
   "id": "d17aadb2-959d-4bcb-bf6d-e704b6f5594c",
   "metadata": {},
   "outputs": [],
   "source": [
    "subway = pd.read_csv('data2/seoul_subway.csv')"
   ]
  },
  {
   "cell_type": "code",
   "execution_count": 4,
   "id": "9dea3420-7c62-4dac-bb78-88a8a7d514d5",
   "metadata": {
    "tags": []
   },
   "outputs": [
    {
     "data": {
      "text/html": [
       "<div>\n",
       "<style scoped>\n",
       "    .dataframe tbody tr th:only-of-type {\n",
       "        vertical-align: middle;\n",
       "    }\n",
       "\n",
       "    .dataframe tbody tr th {\n",
       "        vertical-align: top;\n",
       "    }\n",
       "\n",
       "    .dataframe thead th {\n",
       "        text-align: right;\n",
       "    }\n",
       "</style>\n",
       "<table border=\"1\" class=\"dataframe\">\n",
       "  <thead>\n",
       "    <tr style=\"text-align: right;\">\n",
       "      <th></th>\n",
       "      <th>사용일자</th>\n",
       "      <th>노선명</th>\n",
       "      <th>역명</th>\n",
       "      <th>승차총승객수</th>\n",
       "      <th>하차총승객수</th>\n",
       "      <th>등록일자</th>\n",
       "    </tr>\n",
       "  </thead>\n",
       "  <tbody>\n",
       "    <tr>\n",
       "      <th>1</th>\n",
       "      <td>20191201</td>\n",
       "      <td>1호선</td>\n",
       "      <td>종로3가</td>\n",
       "      <td>19646</td>\n",
       "      <td>17772</td>\n",
       "      <td>20191204</td>\n",
       "    </tr>\n",
       "    <tr>\n",
       "      <th>593</th>\n",
       "      <td>20191202</td>\n",
       "      <td>1호선</td>\n",
       "      <td>종로3가</td>\n",
       "      <td>34277</td>\n",
       "      <td>32405</td>\n",
       "      <td>20191205</td>\n",
       "    </tr>\n",
       "    <tr>\n",
       "      <th>1184</th>\n",
       "      <td>20191203</td>\n",
       "      <td>1호선</td>\n",
       "      <td>종로3가</td>\n",
       "      <td>34957</td>\n",
       "      <td>32832</td>\n",
       "      <td>20191206</td>\n",
       "    </tr>\n",
       "    <tr>\n",
       "      <th>1776</th>\n",
       "      <td>20191204</td>\n",
       "      <td>1호선</td>\n",
       "      <td>종로3가</td>\n",
       "      <td>36007</td>\n",
       "      <td>33498</td>\n",
       "      <td>20191207</td>\n",
       "    </tr>\n",
       "    <tr>\n",
       "      <th>2426</th>\n",
       "      <td>20191205</td>\n",
       "      <td>1호선</td>\n",
       "      <td>종로3가</td>\n",
       "      <td>35536</td>\n",
       "      <td>33702</td>\n",
       "      <td>20191208</td>\n",
       "    </tr>\n",
       "  </tbody>\n",
       "</table>\n",
       "</div>"
      ],
      "text/plain": [
       "          사용일자  노선명    역명  승차총승객수  하차총승객수      등록일자\n",
       "1     20191201  1호선  종로3가   19646   17772  20191204\n",
       "593   20191202  1호선  종로3가   34277   32405  20191205\n",
       "1184  20191203  1호선  종로3가   34957   32832  20191206\n",
       "1776  20191204  1호선  종로3가   36007   33498  20191207\n",
       "2426  20191205  1호선  종로3가   35536   33702  20191208"
      ]
     },
     "execution_count": 4,
     "metadata": {},
     "output_type": "execute_result"
    }
   ],
   "source": [
    "subway_sub = subway.loc[(subway['노선명']=='1호선')&\n",
    "                        (subway['역명']=='종로3가'),:]\n",
    "\n",
    "subway_sub.head()"
   ]
  },
  {
   "cell_type": "code",
   "execution_count": 5,
   "id": "4750d59f-6437-4cfc-a001-8790ea223971",
   "metadata": {},
   "outputs": [
    {
     "name": "stdout",
     "output_type": "stream",
     "text": [
      "<class 'pandas.core.frame.DataFrame'>\n",
      "RangeIndex: 216870 entries, 0 to 216869\n",
      "Data columns (total 6 columns):\n",
      " #   Column  Non-Null Count   Dtype \n",
      "---  ------  --------------   ----- \n",
      " 0   사용일자    216870 non-null  int64 \n",
      " 1   노선명     216870 non-null  object\n",
      " 2   역명      216870 non-null  object\n",
      " 3   승차총승객수  216870 non-null  int64 \n",
      " 4   하차총승객수  216870 non-null  int64 \n",
      " 5   등록일자    216870 non-null  int64 \n",
      "dtypes: int64(4), object(2)\n",
      "memory usage: 9.9+ MB\n"
     ]
    }
   ],
   "source": [
    "subway.info()"
   ]
  },
  {
   "cell_type": "code",
   "execution_count": 6,
   "id": "2780e794-036d-44c0-903d-7508a2fe7cee",
   "metadata": {
    "tags": []
   },
   "outputs": [
    {
     "name": "stderr",
     "output_type": "stream",
     "text": [
      "C:\\Users\\asd\\AppData\\Local\\Temp/ipykernel_25212/1736247898.py:2: SettingWithCopyWarning: \n",
      "A value is trying to be set on a copy of a slice from a DataFrame.\n",
      "Try using .loc[row_indexer,col_indexer] = value instead\n",
      "\n",
      "See the caveats in the documentation: https://pandas.pydata.org/pandas-docs/stable/user_guide/indexing.html#returning-a-view-versus-a-copy\n",
      "  subway_sub['MA_5']= subway_sub.loc[:,'승차총승객수'].rolling(window=5).mean()#5일 이동 평균\n"
     ]
    }
   ],
   "source": [
    "#단순 이동 평균\n",
    "subway_sub['MA_5']= subway_sub.loc[:,'승차총승객수'].rolling(window=5).mean()#5일 이동 평균"
   ]
  },
  {
   "cell_type": "code",
   "execution_count": 7,
   "id": "eb8eac27-5ba6-4c68-bbb0-2d2fa200ffe7",
   "metadata": {},
   "outputs": [
    {
     "data": {
      "text/html": [
       "<div>\n",
       "<style scoped>\n",
       "    .dataframe tbody tr th:only-of-type {\n",
       "        vertical-align: middle;\n",
       "    }\n",
       "\n",
       "    .dataframe tbody tr th {\n",
       "        vertical-align: top;\n",
       "    }\n",
       "\n",
       "    .dataframe thead th {\n",
       "        text-align: right;\n",
       "    }\n",
       "</style>\n",
       "<table border=\"1\" class=\"dataframe\">\n",
       "  <thead>\n",
       "    <tr style=\"text-align: right;\">\n",
       "      <th></th>\n",
       "      <th>사용일자</th>\n",
       "      <th>노선명</th>\n",
       "      <th>역명</th>\n",
       "      <th>승차총승객수</th>\n",
       "      <th>하차총승객수</th>\n",
       "      <th>등록일자</th>\n",
       "      <th>MA_5</th>\n",
       "    </tr>\n",
       "  </thead>\n",
       "  <tbody>\n",
       "    <tr>\n",
       "      <th>1</th>\n",
       "      <td>20191201</td>\n",
       "      <td>1호선</td>\n",
       "      <td>종로3가</td>\n",
       "      <td>19646</td>\n",
       "      <td>17772</td>\n",
       "      <td>20191204</td>\n",
       "      <td>NaN</td>\n",
       "    </tr>\n",
       "    <tr>\n",
       "      <th>593</th>\n",
       "      <td>20191202</td>\n",
       "      <td>1호선</td>\n",
       "      <td>종로3가</td>\n",
       "      <td>34277</td>\n",
       "      <td>32405</td>\n",
       "      <td>20191205</td>\n",
       "      <td>NaN</td>\n",
       "    </tr>\n",
       "    <tr>\n",
       "      <th>1184</th>\n",
       "      <td>20191203</td>\n",
       "      <td>1호선</td>\n",
       "      <td>종로3가</td>\n",
       "      <td>34957</td>\n",
       "      <td>32832</td>\n",
       "      <td>20191206</td>\n",
       "      <td>NaN</td>\n",
       "    </tr>\n",
       "    <tr>\n",
       "      <th>1776</th>\n",
       "      <td>20191204</td>\n",
       "      <td>1호선</td>\n",
       "      <td>종로3가</td>\n",
       "      <td>36007</td>\n",
       "      <td>33498</td>\n",
       "      <td>20191207</td>\n",
       "      <td>NaN</td>\n",
       "    </tr>\n",
       "    <tr>\n",
       "      <th>2426</th>\n",
       "      <td>20191205</td>\n",
       "      <td>1호선</td>\n",
       "      <td>종로3가</td>\n",
       "      <td>35536</td>\n",
       "      <td>33702</td>\n",
       "      <td>20191208</td>\n",
       "      <td>32084.6</td>\n",
       "    </tr>\n",
       "    <tr>\n",
       "      <th>...</th>\n",
       "      <td>...</td>\n",
       "      <td>...</td>\n",
       "      <td>...</td>\n",
       "      <td>...</td>\n",
       "      <td>...</td>\n",
       "      <td>...</td>\n",
       "      <td>...</td>\n",
       "    </tr>\n",
       "    <tr>\n",
       "      <th>214078</th>\n",
       "      <td>20201126</td>\n",
       "      <td>1호선</td>\n",
       "      <td>종로3가</td>\n",
       "      <td>22732</td>\n",
       "      <td>20713</td>\n",
       "      <td>20201129</td>\n",
       "      <td>20598.8</td>\n",
       "    </tr>\n",
       "    <tr>\n",
       "      <th>215074</th>\n",
       "      <td>20201127</td>\n",
       "      <td>1호선</td>\n",
       "      <td>종로3가</td>\n",
       "      <td>22295</td>\n",
       "      <td>20639</td>\n",
       "      <td>20201130</td>\n",
       "      <td>22831.8</td>\n",
       "    </tr>\n",
       "    <tr>\n",
       "      <th>215172</th>\n",
       "      <td>20201128</td>\n",
       "      <td>1호선</td>\n",
       "      <td>종로3가</td>\n",
       "      <td>15104</td>\n",
       "      <td>14240</td>\n",
       "      <td>20201201</td>\n",
       "      <td>21208.4</td>\n",
       "    </tr>\n",
       "    <tr>\n",
       "      <th>216253</th>\n",
       "      <td>20201129</td>\n",
       "      <td>1호선</td>\n",
       "      <td>종로3가</td>\n",
       "      <td>8974</td>\n",
       "      <td>8215</td>\n",
       "      <td>20201202</td>\n",
       "      <td>18526.0</td>\n",
       "    </tr>\n",
       "    <tr>\n",
       "      <th>216387</th>\n",
       "      <td>20201130</td>\n",
       "      <td>1호선</td>\n",
       "      <td>종로3가</td>\n",
       "      <td>21295</td>\n",
       "      <td>19424</td>\n",
       "      <td>20201203</td>\n",
       "      <td>18080.0</td>\n",
       "    </tr>\n",
       "  </tbody>\n",
       "</table>\n",
       "<p>366 rows × 7 columns</p>\n",
       "</div>"
      ],
      "text/plain": [
       "            사용일자  노선명    역명  승차총승객수  하차총승객수      등록일자     MA_5\n",
       "1       20191201  1호선  종로3가   19646   17772  20191204      NaN\n",
       "593     20191202  1호선  종로3가   34277   32405  20191205      NaN\n",
       "1184    20191203  1호선  종로3가   34957   32832  20191206      NaN\n",
       "1776    20191204  1호선  종로3가   36007   33498  20191207      NaN\n",
       "2426    20191205  1호선  종로3가   35536   33702  20191208  32084.6\n",
       "...          ...  ...   ...     ...     ...       ...      ...\n",
       "214078  20201126  1호선  종로3가   22732   20713  20201129  20598.8\n",
       "215074  20201127  1호선  종로3가   22295   20639  20201130  22831.8\n",
       "215172  20201128  1호선  종로3가   15104   14240  20201201  21208.4\n",
       "216253  20201129  1호선  종로3가    8974    8215  20201202  18526.0\n",
       "216387  20201130  1호선  종로3가   21295   19424  20201203  18080.0\n",
       "\n",
       "[366 rows x 7 columns]"
      ]
     },
     "execution_count": 7,
     "metadata": {},
     "output_type": "execute_result"
    }
   ],
   "source": [
    "subway_sub"
   ]
  },
  {
   "cell_type": "code",
   "execution_count": 8,
   "id": "07da9628-e6df-4eed-8337-6a7bb7b21311",
   "metadata": {},
   "outputs": [
    {
     "name": "stderr",
     "output_type": "stream",
     "text": [
      "C:\\Users\\asd\\AppData\\Local\\Temp/ipykernel_25212/3321275169.py:1: SettingWithCopyWarning: \n",
      "A value is trying to be set on a copy of a slice from a DataFrame.\n",
      "Try using .loc[row_indexer,col_indexer] = value instead\n",
      "\n",
      "See the caveats in the documentation: https://pandas.pydata.org/pandas-docs/stable/user_guide/indexing.html#returning-a-view-versus-a-copy\n",
      "  subway_sub['EWMA_01']= subway_sub.loc[:,'승차총승객수'].ewm(alpha=0.9).mean()\n"
     ]
    }
   ],
   "source": [
    "subway_sub['EWMA_01']= subway_sub.loc[:,'승차총승객수'].ewm(alpha=0.9).mean()"
   ]
  },
  {
   "cell_type": "code",
   "execution_count": 9,
   "id": "c5491003-c6f7-46c8-9821-da06b6bafdb1",
   "metadata": {},
   "outputs": [
    {
     "data": {
      "text/plain": [
       "1         19646.000000\n",
       "593       32946.909091\n",
       "1184      34757.801802\n",
       "1776      35882.192619\n",
       "2426      35570.616146\n",
       "              ...     \n",
       "214078    22799.622516\n",
       "215074    22345.462252\n",
       "215172    15828.146225\n",
       "216253     9659.414623\n",
       "216387    20131.441462\n",
       "Name: EWMA_01, Length: 366, dtype: float64"
      ]
     },
     "execution_count": 9,
     "metadata": {},
     "output_type": "execute_result"
    }
   ],
   "source": [
    "subway_sub['EWMA_01']"
   ]
  },
  {
   "cell_type": "code",
   "execution_count": 61,
   "id": "012533c6-7468-465a-bae8-0509a0ee3315",
   "metadata": {},
   "outputs": [],
   "source": [
    "from statsmodels.tsa.seasonal import seasonal_decompose"
   ]
  },
  {
   "cell_type": "code",
   "execution_count": 62,
   "id": "7cb63ce7-e104-4a65-87f5-f23bb24b49af",
   "metadata": {},
   "outputs": [
    {
     "ename": "KeyError",
     "evalue": "\"None of ['사용일자'] are in the columns\"",
     "output_type": "error",
     "traceback": [
      "\u001b[1;31m---------------------------------------------------------------------------\u001b[0m",
      "\u001b[1;31mKeyError\u001b[0m                                  Traceback (most recent call last)",
      "\u001b[1;32m~\\AppData\\Local\\Temp/ipykernel_18276/2742879631.py\u001b[0m in \u001b[0;36m<module>\u001b[1;34m\u001b[0m\n\u001b[1;32m----> 1\u001b[1;33m \u001b[0msubway\u001b[0m \u001b[1;33m=\u001b[0m \u001b[0msubway\u001b[0m\u001b[1;33m.\u001b[0m\u001b[0mset_index\u001b[0m\u001b[1;33m(\u001b[0m\u001b[1;34m'사용일자'\u001b[0m\u001b[1;33m)\u001b[0m\u001b[1;33m\u001b[0m\u001b[1;33m\u001b[0m\u001b[0m\n\u001b[0m",
      "\u001b[1;32m~\\anaconda3\\lib\\site-packages\\pandas\\util\\_decorators.py\u001b[0m in \u001b[0;36mwrapper\u001b[1;34m(*args, **kwargs)\u001b[0m\n\u001b[0;32m    309\u001b[0m                     \u001b[0mstacklevel\u001b[0m\u001b[1;33m=\u001b[0m\u001b[0mstacklevel\u001b[0m\u001b[1;33m,\u001b[0m\u001b[1;33m\u001b[0m\u001b[1;33m\u001b[0m\u001b[0m\n\u001b[0;32m    310\u001b[0m                 )\n\u001b[1;32m--> 311\u001b[1;33m             \u001b[1;32mreturn\u001b[0m \u001b[0mfunc\u001b[0m\u001b[1;33m(\u001b[0m\u001b[1;33m*\u001b[0m\u001b[0margs\u001b[0m\u001b[1;33m,\u001b[0m \u001b[1;33m**\u001b[0m\u001b[0mkwargs\u001b[0m\u001b[1;33m)\u001b[0m\u001b[1;33m\u001b[0m\u001b[1;33m\u001b[0m\u001b[0m\n\u001b[0m\u001b[0;32m    312\u001b[0m \u001b[1;33m\u001b[0m\u001b[0m\n\u001b[0;32m    313\u001b[0m         \u001b[1;32mreturn\u001b[0m \u001b[0mwrapper\u001b[0m\u001b[1;33m\u001b[0m\u001b[1;33m\u001b[0m\u001b[0m\n",
      "\u001b[1;32m~\\anaconda3\\lib\\site-packages\\pandas\\core\\frame.py\u001b[0m in \u001b[0;36mset_index\u001b[1;34m(self, keys, drop, append, inplace, verify_integrity)\u001b[0m\n\u001b[0;32m   5449\u001b[0m \u001b[1;33m\u001b[0m\u001b[0m\n\u001b[0;32m   5450\u001b[0m         \u001b[1;32mif\u001b[0m \u001b[0mmissing\u001b[0m\u001b[1;33m:\u001b[0m\u001b[1;33m\u001b[0m\u001b[1;33m\u001b[0m\u001b[0m\n\u001b[1;32m-> 5451\u001b[1;33m             \u001b[1;32mraise\u001b[0m \u001b[0mKeyError\u001b[0m\u001b[1;33m(\u001b[0m\u001b[1;34mf\"None of {missing} are in the columns\"\u001b[0m\u001b[1;33m)\u001b[0m\u001b[1;33m\u001b[0m\u001b[1;33m\u001b[0m\u001b[0m\n\u001b[0m\u001b[0;32m   5452\u001b[0m \u001b[1;33m\u001b[0m\u001b[0m\n\u001b[0;32m   5453\u001b[0m         \u001b[1;32mif\u001b[0m \u001b[0minplace\u001b[0m\u001b[1;33m:\u001b[0m\u001b[1;33m\u001b[0m\u001b[1;33m\u001b[0m\u001b[0m\n",
      "\u001b[1;31mKeyError\u001b[0m: \"None of ['사용일자'] are in the columns\""
     ]
    }
   ],
   "source": [
    "subway = subway.set_index('사용일자')"
   ]
  },
  {
   "cell_type": "code",
   "execution_count": 12,
   "id": "57e2b9b2-61e9-4dd9-a159-0e5cdb728d1f",
   "metadata": {},
   "outputs": [
    {
     "data": {
      "text/html": [
       "<div>\n",
       "<style scoped>\n",
       "    .dataframe tbody tr th:only-of-type {\n",
       "        vertical-align: middle;\n",
       "    }\n",
       "\n",
       "    .dataframe tbody tr th {\n",
       "        vertical-align: top;\n",
       "    }\n",
       "\n",
       "    .dataframe thead th {\n",
       "        text-align: right;\n",
       "    }\n",
       "</style>\n",
       "<table border=\"1\" class=\"dataframe\">\n",
       "  <thead>\n",
       "    <tr style=\"text-align: right;\">\n",
       "      <th></th>\n",
       "      <th>노선명</th>\n",
       "      <th>역명</th>\n",
       "      <th>승차총승객수</th>\n",
       "      <th>하차총승객수</th>\n",
       "      <th>등록일자</th>\n",
       "    </tr>\n",
       "    <tr>\n",
       "      <th>사용일자</th>\n",
       "      <th></th>\n",
       "      <th></th>\n",
       "      <th></th>\n",
       "      <th></th>\n",
       "      <th></th>\n",
       "    </tr>\n",
       "  </thead>\n",
       "  <tbody>\n",
       "    <tr>\n",
       "      <th>20191201</th>\n",
       "      <td>1호선</td>\n",
       "      <td>종각</td>\n",
       "      <td>19093</td>\n",
       "      <td>17141</td>\n",
       "      <td>20191204</td>\n",
       "    </tr>\n",
       "    <tr>\n",
       "      <th>20191201</th>\n",
       "      <td>1호선</td>\n",
       "      <td>종로3가</td>\n",
       "      <td>19646</td>\n",
       "      <td>17772</td>\n",
       "      <td>20191204</td>\n",
       "    </tr>\n",
       "    <tr>\n",
       "      <th>20191201</th>\n",
       "      <td>1호선</td>\n",
       "      <td>종로5가</td>\n",
       "      <td>13716</td>\n",
       "      <td>13149</td>\n",
       "      <td>20191204</td>\n",
       "    </tr>\n",
       "    <tr>\n",
       "      <th>20191201</th>\n",
       "      <td>1호선</td>\n",
       "      <td>동대문</td>\n",
       "      <td>11040</td>\n",
       "      <td>13079</td>\n",
       "      <td>20191204</td>\n",
       "    </tr>\n",
       "    <tr>\n",
       "      <th>20191201</th>\n",
       "      <td>1호선</td>\n",
       "      <td>신설동</td>\n",
       "      <td>8498</td>\n",
       "      <td>8322</td>\n",
       "      <td>20191204</td>\n",
       "    </tr>\n",
       "    <tr>\n",
       "      <th>...</th>\n",
       "      <td>...</td>\n",
       "      <td>...</td>\n",
       "      <td>...</td>\n",
       "      <td>...</td>\n",
       "      <td>...</td>\n",
       "    </tr>\n",
       "    <tr>\n",
       "      <th>20201130</th>\n",
       "      <td>공항철도 1호선</td>\n",
       "      <td>검암</td>\n",
       "      <td>6292</td>\n",
       "      <td>6142</td>\n",
       "      <td>20201203</td>\n",
       "    </tr>\n",
       "    <tr>\n",
       "      <th>20201130</th>\n",
       "      <td>공항철도 1호선</td>\n",
       "      <td>청라국제도시</td>\n",
       "      <td>5772</td>\n",
       "      <td>5315</td>\n",
       "      <td>20201203</td>\n",
       "    </tr>\n",
       "    <tr>\n",
       "      <th>20201130</th>\n",
       "      <td>공항철도 1호선</td>\n",
       "      <td>운서</td>\n",
       "      <td>5174</td>\n",
       "      <td>5129</td>\n",
       "      <td>20201203</td>\n",
       "    </tr>\n",
       "    <tr>\n",
       "      <th>20201130</th>\n",
       "      <td>공항철도 1호선</td>\n",
       "      <td>공항화물청사</td>\n",
       "      <td>2148</td>\n",
       "      <td>2384</td>\n",
       "      <td>20201203</td>\n",
       "    </tr>\n",
       "    <tr>\n",
       "      <th>20201130</th>\n",
       "      <td>공항철도 1호선</td>\n",
       "      <td>인천공항1터미널</td>\n",
       "      <td>3017</td>\n",
       "      <td>2949</td>\n",
       "      <td>20201203</td>\n",
       "    </tr>\n",
       "  </tbody>\n",
       "</table>\n",
       "<p>216870 rows × 5 columns</p>\n",
       "</div>"
      ],
      "text/plain": [
       "               노선명        역명  승차총승객수  하차총승객수      등록일자\n",
       "사용일자                                                  \n",
       "20191201       1호선        종각   19093   17141  20191204\n",
       "20191201       1호선      종로3가   19646   17772  20191204\n",
       "20191201       1호선      종로5가   13716   13149  20191204\n",
       "20191201       1호선       동대문   11040   13079  20191204\n",
       "20191201       1호선       신설동    8498    8322  20191204\n",
       "...            ...       ...     ...     ...       ...\n",
       "20201130  공항철도 1호선        검암    6292    6142  20201203\n",
       "20201130  공항철도 1호선    청라국제도시    5772    5315  20201203\n",
       "20201130  공항철도 1호선        운서    5174    5129  20201203\n",
       "20201130  공항철도 1호선    공항화물청사    2148    2384  20201203\n",
       "20201130  공항철도 1호선  인천공항1터미널    3017    2949  20201203\n",
       "\n",
       "[216870 rows x 5 columns]"
      ]
     },
     "execution_count": 12,
     "metadata": {},
     "output_type": "execute_result"
    }
   ],
   "source": [
    "subway"
   ]
  },
  {
   "cell_type": "code",
   "execution_count": 13,
   "id": "751fe341-7adc-4a37-b072-b3b86d54052e",
   "metadata": {},
   "outputs": [],
   "source": [
    "subway_sub= subway.loc[(subway['노선명']=='1호선')&\n",
    "               (subway['역명']=='종각'),:]"
   ]
  },
  {
   "cell_type": "code",
   "execution_count": 14,
   "id": "91f39b1c-b19b-483d-a72c-2ff02b5780d1",
   "metadata": {},
   "outputs": [],
   "source": [
    "subway_sub = subway_sub.reset_index()"
   ]
  },
  {
   "cell_type": "code",
   "execution_count": 15,
   "id": "ccc1f11a-e1c0-42eb-b949-89bf46ddb98a",
   "metadata": {},
   "outputs": [],
   "source": [
    "subway_sub['사용일자'] = pd.to_datetime(subway_sub['사용일자'],format='%Y%m%d')"
   ]
  },
  {
   "cell_type": "code",
   "execution_count": 16,
   "id": "e00eba49-97b9-46bb-b989-00764a185f51",
   "metadata": {},
   "outputs": [
    {
     "data": {
      "text/plain": [
       "0     2019-12-01\n",
       "1     2019-12-02\n",
       "2     2019-12-03\n",
       "3     2019-12-04\n",
       "4     2019-12-05\n",
       "         ...    \n",
       "361   2020-11-26\n",
       "362   2020-11-27\n",
       "363   2020-11-28\n",
       "364   2020-11-29\n",
       "365   2020-11-30\n",
       "Name: 사용일자, Length: 366, dtype: datetime64[ns]"
      ]
     },
     "execution_count": 16,
     "metadata": {},
     "output_type": "execute_result"
    }
   ],
   "source": [
    "subway_sub['사용일자']"
   ]
  },
  {
   "cell_type": "code",
   "execution_count": 17,
   "id": "f17665c6-aa5c-4ca0-8acc-c52995712c0c",
   "metadata": {},
   "outputs": [],
   "source": [
    "subway_sub.set_index('사용일자',inplace=True)"
   ]
  },
  {
   "cell_type": "code",
   "execution_count": 60,
   "id": "408a62a6-db62-40f0-8f6f-f772f1c6a52b",
   "metadata": {},
   "outputs": [
    {
     "data": {
      "text/plain": [
       "Int64Index([   439,   1030,   1621,   2214,   2863,   3397,   4044,   4579,\n",
       "              5170,   5763,\n",
       "            ...\n",
       "            211235, 211881, 212554, 212883, 213528, 214412, 214887, 215582,\n",
       "            216071, 216590],\n",
       "           dtype='int64', length=366)"
      ]
     },
     "execution_count": 60,
     "metadata": {},
     "output_type": "execute_result"
    }
   ],
   "source": [
    "subway_sub.index"
   ]
  },
  {
   "cell_type": "code",
   "execution_count": 59,
   "id": "4fa0c4e6-dfa5-4172-862c-ac28c9afbc2e",
   "metadata": {},
   "outputs": [
    {
     "data": {
      "text/plain": [
       "<bound method NDFrame.tail of             사용일자  노선명   역명  승차총승객수  하차총승객수      등록일자\n",
       "439     20191201  6호선  이태원   15817   12541  20191204\n",
       "1030    20191202  6호선  이태원   12771   12974  20191205\n",
       "1621    20191203  6호선  이태원   12871   13565  20191206\n",
       "2214    20191204  6호선  이태원   13424   14227  20191207\n",
       "2863    20191205  6호선  이태원   13478   14757  20191208\n",
       "...          ...  ...  ...     ...     ...       ...\n",
       "214412  20201126  6호선  이태원    7641    7780  20201129\n",
       "214887  20201127  6호선  이태원    8140    8537  20201130\n",
       "215582  20201128  6호선  이태원    6392    6513  20201201\n",
       "216071  20201129  6호선  이태원    5239    4996  20201202\n",
       "216590  20201130  6호선  이태원    7059    7109  20201203\n",
       "\n",
       "[366 rows x 6 columns]>"
      ]
     },
     "execution_count": 59,
     "metadata": {},
     "output_type": "execute_result"
    }
   ],
   "source": [
    "subway_sub.tail"
   ]
  },
  {
   "cell_type": "code",
   "execution_count": 20,
   "id": "904465c0-26df-4d8d-9612-3eba6eff0236",
   "metadata": {},
   "outputs": [],
   "source": [
    "result =seasonal_decompose(subway_sub['승차총승객수'][:200])"
   ]
  },
  {
   "cell_type": "code",
   "execution_count": 25,
   "id": "483dfada-40ac-4bfb-b119-48b362998db2",
   "metadata": {},
   "outputs": [
    {
     "data": {
      "image/png": "[encoded data removed]",
      "text/plain": [
       "<Figure size 432x288 with 4 Axes>"
      ]
     },
     "execution_count": 25,
     "metadata": {},
     "output_type": "execute_result"
    },
    {
     "data": {
      "image/png": "[encoded data removed]",
      "text/plain": [
       "<Figure size 432x288 with 4 Axes>"
      ]
     },
     "metadata": {
      "needs_background": "light"
     },
     "output_type": "display_data"
    }
   ],
   "source": [
    "result.plot()"
   ]
  },
  {
   "cell_type": "code",
   "execution_count": 27,
   "id": "1c2064a6-b31b-4295-bcf4-5d62bbc06160",
   "metadata": {},
   "outputs": [
    {
     "data": {
      "text/plain": [
       "사용일자\n",
       "2019-12-01   -19583.003644\n",
       "2019-12-02     5471.865592\n",
       "2019-12-03     6498.331201\n",
       "2019-12-04     5479.282070\n",
       "2019-12-05     6421.940233\n",
       "                  ...     \n",
       "2020-06-13   -10709.120991\n",
       "2020-06-14   -19583.003644\n",
       "2020-06-15     5471.865592\n",
       "2020-06-16     6498.331201\n",
       "2020-06-17     5479.282070\n",
       "Name: seasonal, Length: 200, dtype: float64"
      ]
     },
     "execution_count": 27,
     "metadata": {},
     "output_type": "execute_result"
    }
   ],
   "source": [
    "result.seasonal"
   ]
  },
  {
   "cell_type": "code",
   "execution_count": 27,
   "id": "14e61d0d-c286-414f-be83-71abcb94d68d",
   "metadata": {},
   "outputs": [],
   "source": [
    "subway_sub=subway.loc[(subway['노선명']=='6호선')&\n",
    "                     (subway['역명']=='이태원'),:]"
   ]
  },
  {
   "cell_type": "code",
   "execution_count": 35,
   "id": "a7e6db0b-d4e0-47e0-93be-f99dc8dccd0c",
   "metadata": {},
   "outputs": [],
   "source": [
    "result= subway_sub['하차총승객수'].ewm(alpha=0.9).mean()"
   ]
  },
  {
   "cell_type": "code",
   "execution_count": 38,
   "id": "e7022ef4-13b7-47ea-b705-8abad23801fb",
   "metadata": {},
   "outputs": [
    {
     "name": "stdout",
     "output_type": "stream",
     "text": [
      "<class 'pandas.core.frame.DataFrame'>\n",
      "Int64Index: 366 entries, 439 to 216590\n",
      "Data columns (total 6 columns):\n",
      " #   Column  Non-Null Count  Dtype \n",
      "---  ------  --------------  ----- \n",
      " 0   사용일자    366 non-null    int64 \n",
      " 1   노선명     366 non-null    object\n",
      " 2   역명      366 non-null    object\n",
      " 3   승차총승객수  366 non-null    int64 \n",
      " 4   하차총승객수  366 non-null    int64 \n",
      " 5   등록일자    366 non-null    int64 \n",
      "dtypes: int64(4), object(2)\n",
      "memory usage: 28.1+ KB\n"
     ]
    }
   ],
   "source": [
    "subway_sub.info()"
   ]
  },
  {
   "cell_type": "code",
   "execution_count": 39,
   "id": "83476b6b-5328-42fa-9755-258da15bfd61",
   "metadata": {},
   "outputs": [
    {
     "data": {
      "text/html": [
       "<div>\n",
       "<style scoped>\n",
       "    .dataframe tbody tr th:only-of-type {\n",
       "        vertical-align: middle;\n",
       "    }\n",
       "\n",
       "    .dataframe tbody tr th {\n",
       "        vertical-align: top;\n",
       "    }\n",
       "\n",
       "    .dataframe thead th {\n",
       "        text-align: right;\n",
       "    }\n",
       "</style>\n",
       "<table border=\"1\" class=\"dataframe\">\n",
       "  <thead>\n",
       "    <tr style=\"text-align: right;\">\n",
       "      <th></th>\n",
       "      <th>사용일자</th>\n",
       "      <th>노선명</th>\n",
       "      <th>역명</th>\n",
       "      <th>승차총승객수</th>\n",
       "      <th>하차총승객수</th>\n",
       "      <th>등록일자</th>\n",
       "    </tr>\n",
       "  </thead>\n",
       "  <tbody>\n",
       "    <tr>\n",
       "      <th>439</th>\n",
       "      <td>20191201</td>\n",
       "      <td>6호선</td>\n",
       "      <td>이태원</td>\n",
       "      <td>15817</td>\n",
       "      <td>12541</td>\n",
       "      <td>20191204</td>\n",
       "    </tr>\n",
       "    <tr>\n",
       "      <th>1030</th>\n",
       "      <td>20191202</td>\n",
       "      <td>6호선</td>\n",
       "      <td>이태원</td>\n",
       "      <td>12771</td>\n",
       "      <td>12974</td>\n",
       "      <td>20191205</td>\n",
       "    </tr>\n",
       "    <tr>\n",
       "      <th>1621</th>\n",
       "      <td>20191203</td>\n",
       "      <td>6호선</td>\n",
       "      <td>이태원</td>\n",
       "      <td>12871</td>\n",
       "      <td>13565</td>\n",
       "      <td>20191206</td>\n",
       "    </tr>\n",
       "    <tr>\n",
       "      <th>2214</th>\n",
       "      <td>20191204</td>\n",
       "      <td>6호선</td>\n",
       "      <td>이태원</td>\n",
       "      <td>13424</td>\n",
       "      <td>14227</td>\n",
       "      <td>20191207</td>\n",
       "    </tr>\n",
       "    <tr>\n",
       "      <th>2863</th>\n",
       "      <td>20191205</td>\n",
       "      <td>6호선</td>\n",
       "      <td>이태원</td>\n",
       "      <td>13478</td>\n",
       "      <td>14757</td>\n",
       "      <td>20191208</td>\n",
       "    </tr>\n",
       "    <tr>\n",
       "      <th>...</th>\n",
       "      <td>...</td>\n",
       "      <td>...</td>\n",
       "      <td>...</td>\n",
       "      <td>...</td>\n",
       "      <td>...</td>\n",
       "      <td>...</td>\n",
       "    </tr>\n",
       "    <tr>\n",
       "      <th>214412</th>\n",
       "      <td>20201126</td>\n",
       "      <td>6호선</td>\n",
       "      <td>이태원</td>\n",
       "      <td>7641</td>\n",
       "      <td>7780</td>\n",
       "      <td>20201129</td>\n",
       "    </tr>\n",
       "    <tr>\n",
       "      <th>214887</th>\n",
       "      <td>20201127</td>\n",
       "      <td>6호선</td>\n",
       "      <td>이태원</td>\n",
       "      <td>8140</td>\n",
       "      <td>8537</td>\n",
       "      <td>20201130</td>\n",
       "    </tr>\n",
       "    <tr>\n",
       "      <th>215582</th>\n",
       "      <td>20201128</td>\n",
       "      <td>6호선</td>\n",
       "      <td>이태원</td>\n",
       "      <td>6392</td>\n",
       "      <td>6513</td>\n",
       "      <td>20201201</td>\n",
       "    </tr>\n",
       "    <tr>\n",
       "      <th>216071</th>\n",
       "      <td>20201129</td>\n",
       "      <td>6호선</td>\n",
       "      <td>이태원</td>\n",
       "      <td>5239</td>\n",
       "      <td>4996</td>\n",
       "      <td>20201202</td>\n",
       "    </tr>\n",
       "    <tr>\n",
       "      <th>216590</th>\n",
       "      <td>20201130</td>\n",
       "      <td>6호선</td>\n",
       "      <td>이태원</td>\n",
       "      <td>7059</td>\n",
       "      <td>7109</td>\n",
       "      <td>20201203</td>\n",
       "    </tr>\n",
       "  </tbody>\n",
       "</table>\n",
       "<p>366 rows × 6 columns</p>\n",
       "</div>"
      ],
      "text/plain": [
       "            사용일자  노선명   역명  승차총승객수  하차총승객수      등록일자\n",
       "439     20191201  6호선  이태원   15817   12541  20191204\n",
       "1030    20191202  6호선  이태원   12771   12974  20191205\n",
       "1621    20191203  6호선  이태원   12871   13565  20191206\n",
       "2214    20191204  6호선  이태원   13424   14227  20191207\n",
       "2863    20191205  6호선  이태원   13478   14757  20191208\n",
       "...          ...  ...  ...     ...     ...       ...\n",
       "214412  20201126  6호선  이태원    7641    7780  20201129\n",
       "214887  20201127  6호선  이태원    8140    8537  20201130\n",
       "215582  20201128  6호선  이태원    6392    6513  20201201\n",
       "216071  20201129  6호선  이태원    5239    4996  20201202\n",
       "216590  20201130  6호선  이태원    7059    7109  20201203\n",
       "\n",
       "[366 rows x 6 columns]"
      ]
     },
     "execution_count": 39,
     "metadata": {},
     "output_type": "execute_result"
    }
   ],
   "source": [
    "subway_sub"
   ]
  },
  {
   "cell_type": "markdown",
   "id": "98b57291-0121-4975-afb6-f746d6022a84",
   "metadata": {},
   "source": [
    "문제 3. 신사역 승차 총 승객수를 활용하여 시계열 분해 가법 모형을 실시하였을 때 2020년 11월 30일의 추세값은? "
   ]
  },
  {
   "cell_type": "code",
   "execution_count": 40,
   "id": "6a5b516b-30cb-4e60-ba41-5fd3d69109ff",
   "metadata": {},
   "outputs": [
    {
     "data": {
      "text/html": [
       "<div>\n",
       "<style scoped>\n",
       "    .dataframe tbody tr th:only-of-type {\n",
       "        vertical-align: middle;\n",
       "    }\n",
       "\n",
       "    .dataframe tbody tr th {\n",
       "        vertical-align: top;\n",
       "    }\n",
       "\n",
       "    .dataframe thead th {\n",
       "        text-align: right;\n",
       "    }\n",
       "</style>\n",
       "<table border=\"1\" class=\"dataframe\">\n",
       "  <thead>\n",
       "    <tr style=\"text-align: right;\">\n",
       "      <th></th>\n",
       "      <th>사용일자</th>\n",
       "      <th>노선명</th>\n",
       "      <th>역명</th>\n",
       "      <th>승차총승객수</th>\n",
       "      <th>하차총승객수</th>\n",
       "      <th>등록일자</th>\n",
       "    </tr>\n",
       "  </thead>\n",
       "  <tbody>\n",
       "    <tr>\n",
       "      <th>0</th>\n",
       "      <td>20191201</td>\n",
       "      <td>1호선</td>\n",
       "      <td>종각</td>\n",
       "      <td>19093</td>\n",
       "      <td>17141</td>\n",
       "      <td>20191204</td>\n",
       "    </tr>\n",
       "    <tr>\n",
       "      <th>1</th>\n",
       "      <td>20191201</td>\n",
       "      <td>1호선</td>\n",
       "      <td>종로3가</td>\n",
       "      <td>19646</td>\n",
       "      <td>17772</td>\n",
       "      <td>20191204</td>\n",
       "    </tr>\n",
       "    <tr>\n",
       "      <th>2</th>\n",
       "      <td>20191201</td>\n",
       "      <td>1호선</td>\n",
       "      <td>종로5가</td>\n",
       "      <td>13716</td>\n",
       "      <td>13149</td>\n",
       "      <td>20191204</td>\n",
       "    </tr>\n",
       "    <tr>\n",
       "      <th>3</th>\n",
       "      <td>20191201</td>\n",
       "      <td>1호선</td>\n",
       "      <td>동대문</td>\n",
       "      <td>11040</td>\n",
       "      <td>13079</td>\n",
       "      <td>20191204</td>\n",
       "    </tr>\n",
       "    <tr>\n",
       "      <th>4</th>\n",
       "      <td>20191201</td>\n",
       "      <td>1호선</td>\n",
       "      <td>신설동</td>\n",
       "      <td>8498</td>\n",
       "      <td>8322</td>\n",
       "      <td>20191204</td>\n",
       "    </tr>\n",
       "    <tr>\n",
       "      <th>...</th>\n",
       "      <td>...</td>\n",
       "      <td>...</td>\n",
       "      <td>...</td>\n",
       "      <td>...</td>\n",
       "      <td>...</td>\n",
       "      <td>...</td>\n",
       "    </tr>\n",
       "    <tr>\n",
       "      <th>216865</th>\n",
       "      <td>20201130</td>\n",
       "      <td>공항철도 1호선</td>\n",
       "      <td>검암</td>\n",
       "      <td>6292</td>\n",
       "      <td>6142</td>\n",
       "      <td>20201203</td>\n",
       "    </tr>\n",
       "    <tr>\n",
       "      <th>216866</th>\n",
       "      <td>20201130</td>\n",
       "      <td>공항철도 1호선</td>\n",
       "      <td>청라국제도시</td>\n",
       "      <td>5772</td>\n",
       "      <td>5315</td>\n",
       "      <td>20201203</td>\n",
       "    </tr>\n",
       "    <tr>\n",
       "      <th>216867</th>\n",
       "      <td>20201130</td>\n",
       "      <td>공항철도 1호선</td>\n",
       "      <td>운서</td>\n",
       "      <td>5174</td>\n",
       "      <td>5129</td>\n",
       "      <td>20201203</td>\n",
       "    </tr>\n",
       "    <tr>\n",
       "      <th>216868</th>\n",
       "      <td>20201130</td>\n",
       "      <td>공항철도 1호선</td>\n",
       "      <td>공항화물청사</td>\n",
       "      <td>2148</td>\n",
       "      <td>2384</td>\n",
       "      <td>20201203</td>\n",
       "    </tr>\n",
       "    <tr>\n",
       "      <th>216869</th>\n",
       "      <td>20201130</td>\n",
       "      <td>공항철도 1호선</td>\n",
       "      <td>인천공항1터미널</td>\n",
       "      <td>3017</td>\n",
       "      <td>2949</td>\n",
       "      <td>20201203</td>\n",
       "    </tr>\n",
       "  </tbody>\n",
       "</table>\n",
       "<p>216870 rows × 6 columns</p>\n",
       "</div>"
      ],
      "text/plain": [
       "            사용일자       노선명        역명  승차총승객수  하차총승객수      등록일자\n",
       "0       20191201       1호선        종각   19093   17141  20191204\n",
       "1       20191201       1호선      종로3가   19646   17772  20191204\n",
       "2       20191201       1호선      종로5가   13716   13149  20191204\n",
       "3       20191201       1호선       동대문   11040   13079  20191204\n",
       "4       20191201       1호선       신설동    8498    8322  20191204\n",
       "...          ...       ...       ...     ...     ...       ...\n",
       "216865  20201130  공항철도 1호선        검암    6292    6142  20201203\n",
       "216866  20201130  공항철도 1호선    청라국제도시    5772    5315  20201203\n",
       "216867  20201130  공항철도 1호선        운서    5174    5129  20201203\n",
       "216868  20201130  공항철도 1호선    공항화물청사    2148    2384  20201203\n",
       "216869  20201130  공항철도 1호선  인천공항1터미널    3017    2949  20201203\n",
       "\n",
       "[216870 rows x 6 columns]"
      ]
     },
     "execution_count": 40,
     "metadata": {},
     "output_type": "execute_result"
    }
   ],
   "source": [
    "subway"
   ]
  },
  {
   "cell_type": "code",
   "execution_count": 69,
   "id": "e7b5ed42-0506-45db-9647-41c0338fc040",
   "metadata": {},
   "outputs": [],
   "source": [
    "from statsmodels.tsa.seasonal import seasonal_decompose"
   ]
  },
  {
   "cell_type": "code",
   "execution_count": 70,
   "id": "ca2157fc-60ce-46a9-9c9e-1ac3a6ee751f",
   "metadata": {},
   "outputs": [],
   "source": [
    "subway['사용일자']=pd.to_datetime(subway['사용일자'],format='%Y%m%d')"
   ]
  },
  {
   "cell_type": "code",
   "execution_count": 71,
   "id": "aea3dd60-3919-4305-92ef-3348d46337ce",
   "metadata": {},
   "outputs": [],
   "source": [
    "subway = subway.set_index('사용일자')"
   ]
  },
  {
   "cell_type": "code",
   "execution_count": 79,
   "id": "c5effc23-d3d3-44f9-b9c5-d8ab60592f0d",
   "metadata": {},
   "outputs": [],
   "source": [
    "subway_sub = subway.loc[(subway['역명']=='신사')&\n",
    "                        (subway['노선명']=='3호선'),:]"
   ]
  },
  {
   "cell_type": "code",
   "execution_count": 90,
   "id": "93a379c6-0ca0-4c28-a859-b141122f0032",
   "metadata": {},
   "outputs": [],
   "source": [
    "result= seasonal_decompose(subway_sub['승차총승객수'],model='additive',extrapolate_trend=1)"
   ]
  },
  {
   "cell_type": "code",
   "execution_count": 91,
   "id": "b317bf74-4dbd-4d52-9bb3-c20e9812c029",
   "metadata": {},
   "outputs": [
    {
     "data": {
      "text/plain": [
       "21098.571428571653"
      ]
     },
     "execution_count": 91,
     "metadata": {},
     "output_type": "execute_result"
    }
   ],
   "source": [
    "result.trend['2020-11-30']"
   ]
  },
  {
   "cell_type": "code",
   "execution_count": null,
   "id": "b3678101-9fdd-433c-996e-433934113e65",
   "metadata": {},
   "outputs": [],
   "source": []
  }
 ],
 "metadata": {
  "kernelspec": {
   "display_name": "Python 3 (ipykernel)",
   "language": "python",
   "name": "python3"
  },
  "language_info": {
   "codemirror_mode": {
    "name": "ipython",
    "version": 3
   },
   "file_extension": ".py",
   "mimetype": "text/x-python",
   "name": "python",
   "nbconvert_exporter": "python",
   "pygments_lexer": "ipython3",
   "version": "3.9.7"
  },
  "widgets": {
   "application/vnd.jupyter.widget-state+json": {
    "state": {},
    "version_major": 2,
    "version_minor": 0
   }
  }
 },
 "nbformat": 4,
 "nbformat_minor": 5
}
