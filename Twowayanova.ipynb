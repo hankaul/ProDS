{
 "cells": [
  {
   "cell_type": "code",
   "execution_count": 41,
   "id": "ad4269fc-7a72-4d79-b631-5979d82bdae2",
   "metadata": {},
   "outputs": [],
   "source": [
    "import pandas as pd\n",
    "import numpy as np\n",
    "import seaborn as sns\n",
    "\n",
    "tips = sns.load_dataset(\"tips\")\n",
    "titanic = sns.load_dataset('titanic')\n",
    "penguins = sns.load_dataset(\"penguins\")\n",
    "iris = pd.read_csv('data2/iris.csv')\n",
    "dia = sns.load_dataset(\"diamonds\")\n"
   ]
  },
  {
   "cell_type": "code",
   "execution_count": 42,
   "id": "a62243ca-f6bc-4180-bf77-dd3a7f0b0682",
   "metadata": {},
   "outputs": [],
   "source": [
    "from statsmodels.formula.api import ols\n",
    "from statsmodels.stats.anova import anova_lm"
   ]
  },
  {
   "cell_type": "code",
   "execution_count": 52,
   "id": "206da939-7802-495b-a9cb-dc37e729fc31",
   "metadata": {},
   "outputs": [
    {
     "data": {
      "text/plain": [
       "G    11292\n",
       "E     9797\n",
       "F     9542\n",
       "H     8304\n",
       "D     6775\n",
       "I     5422\n",
       "J     2808\n",
       "Name: color, dtype: int64"
      ]
     },
     "execution_count": 52,
     "metadata": {},
     "output_type": "execute_result"
    }
   ],
   "source": [
    "dia['color'].value_counts()"
   ]
  },
  {
   "cell_type": "code",
   "execution_count": 49,
   "id": "96b6a783-79d3-457c-be7c-9924aa6bcbd7",
   "metadata": {},
   "outputs": [
    {
     "data": {
      "text/html": [
       "<div>\n",
       "<style scoped>\n",
       "    .dataframe tbody tr th:only-of-type {\n",
       "        vertical-align: middle;\n",
       "    }\n",
       "\n",
       "    .dataframe tbody tr th {\n",
       "        vertical-align: top;\n",
       "    }\n",
       "\n",
       "    .dataframe thead th {\n",
       "        text-align: right;\n",
       "    }\n",
       "</style>\n",
       "<table border=\"1\" class=\"dataframe\">\n",
       "  <thead>\n",
       "    <tr style=\"text-align: right;\">\n",
       "      <th></th>\n",
       "      <th>df</th>\n",
       "      <th>sum_sq</th>\n",
       "      <th>mean_sq</th>\n",
       "      <th>F</th>\n",
       "      <th>PR(&gt;F)</th>\n",
       "    </tr>\n",
       "  </thead>\n",
       "  <tbody>\n",
       "    <tr>\n",
       "      <th>C(cut)</th>\n",
       "      <td>4.0</td>\n",
       "      <td>1.104175e+10</td>\n",
       "      <td>2.760436e+09</td>\n",
       "      <td>181.405097</td>\n",
       "      <td>1.095733e-154</td>\n",
       "    </tr>\n",
       "    <tr>\n",
       "      <th>C(color)</th>\n",
       "      <td>6.0</td>\n",
       "      <td>2.550704e+10</td>\n",
       "      <td>4.251174e+09</td>\n",
       "      <td>279.370558</td>\n",
       "      <td>0.000000e+00</td>\n",
       "    </tr>\n",
       "    <tr>\n",
       "      <th>C(cut):C(color)</th>\n",
       "      <td>24.0</td>\n",
       "      <td>1.653455e+09</td>\n",
       "      <td>6.889396e+07</td>\n",
       "      <td>4.527442</td>\n",
       "      <td>1.000780e-12</td>\n",
       "    </tr>\n",
       "    <tr>\n",
       "      <th>Residual</th>\n",
       "      <td>53905.0</td>\n",
       "      <td>8.202709e+11</td>\n",
       "      <td>1.521697e+07</td>\n",
       "      <td>NaN</td>\n",
       "      <td>NaN</td>\n",
       "    </tr>\n",
       "  </tbody>\n",
       "</table>\n",
       "</div>"
      ],
      "text/plain": [
       "                      df        sum_sq       mean_sq           F  \\\n",
       "C(cut)               4.0  1.104175e+10  2.760436e+09  181.405097   \n",
       "C(color)             6.0  2.550704e+10  4.251174e+09  279.370558   \n",
       "C(cut):C(color)     24.0  1.653455e+09  6.889396e+07    4.527442   \n",
       "Residual         53905.0  8.202709e+11  1.521697e+07         NaN   \n",
       "\n",
       "                        PR(>F)  \n",
       "C(cut)           1.095733e-154  \n",
       "C(color)          0.000000e+00  \n",
       "C(cut):C(color)   1.000780e-12  \n",
       "Residual                   NaN  "
      ]
     },
     "execution_count": 49,
     "metadata": {},
     "output_type": "execute_result"
    }
   ],
   "source": [
    "formula = \"price ~ C(cut) + C(color) + C(cut):C(color)\"\n",
    "model = ols(formula, data = dia).fit()\n",
    "anova_lm(model)"
   ]
  }
 ],
 "metadata": {
  "kernelspec": {
   "display_name": "Python 3 (ipykernel)",
   "language": "python",
   "name": "python3"
  },
  "language_info": {
   "codemirror_mode": {
    "name": "ipython",
    "version": 3
   },
   "file_extension": ".py",
   "mimetype": "text/x-python",
   "name": "python",
   "nbconvert_exporter": "python",
   "pygments_lexer": "ipython3",
   "version": "3.9.7"
  },
  "widgets": {
   "application/vnd.jupyter.widget-state+json": {
    "state": {},
    "version_major": 2,
    "version_minor": 0
   }
  }
 },
 "nbformat": 4,
 "nbformat_minor": 5
}
