{
 "cells": [
  {
   "cell_type": "markdown",
   "id": "df6ba8ef-2445-4b00-833b-47488768855b",
   "metadata": {},
   "source": [
    "문제 1. 자료가 수집된 지역의 평균온도는 20도라고 한다. 수집된 데이터를 사용하여 양측검정을 실시했을 때 .p-value?"
   ]
  },
  {
   "cell_type": "code",
   "execution_count": 13,
   "id": "202250ae-16a8-4ecc-a0d9-ef81b724eded",
   "metadata": {},
   "outputs": [],
   "source": [
    "import pandas as pd\n",
    "from scipy import stats"
   ]
  },
  {
   "cell_type": "code",
   "execution_count": 14,
   "id": "0b58716f-55a9-4b95-b202-659756396bae",
   "metadata": {},
   "outputs": [],
   "source": [
    "bike = pd.read_csv('data2/bike.csv')"
   ]
  },
  {
   "cell_type": "code",
   "execution_count": 15,
   "id": "6a845d64-54ae-479a-a011-9d36e85ba438",
   "metadata": {},
   "outputs": [
    {
     "data": {
      "text/html": [
       "<div>\n",
       "<style scoped>\n",
       "    .dataframe tbody tr th:only-of-type {\n",
       "        vertical-align: middle;\n",
       "    }\n",
       "\n",
       "    .dataframe tbody tr th {\n",
       "        vertical-align: top;\n",
       "    }\n",
       "\n",
       "    .dataframe thead th {\n",
       "        text-align: right;\n",
       "    }\n",
       "</style>\n",
       "<table border=\"1\" class=\"dataframe\">\n",
       "  <thead>\n",
       "    <tr style=\"text-align: right;\">\n",
       "      <th></th>\n",
       "      <th>datetime</th>\n",
       "      <th>season</th>\n",
       "      <th>holiday</th>\n",
       "      <th>workingday</th>\n",
       "      <th>weather</th>\n",
       "      <th>temp</th>\n",
       "      <th>atemp</th>\n",
       "      <th>humidity</th>\n",
       "      <th>windspeed</th>\n",
       "      <th>casual</th>\n",
       "      <th>registered</th>\n",
       "      <th>count</th>\n",
       "    </tr>\n",
       "  </thead>\n",
       "  <tbody>\n",
       "    <tr>\n",
       "      <th>0</th>\n",
       "      <td>2011-01-01 00:00:00</td>\n",
       "      <td>1</td>\n",
       "      <td>0</td>\n",
       "      <td>0</td>\n",
       "      <td>1</td>\n",
       "      <td>9.84</td>\n",
       "      <td>14.395</td>\n",
       "      <td>81</td>\n",
       "      <td>0.0</td>\n",
       "      <td>3</td>\n",
       "      <td>13</td>\n",
       "      <td>16</td>\n",
       "    </tr>\n",
       "    <tr>\n",
       "      <th>1</th>\n",
       "      <td>2011-01-01 01:00:00</td>\n",
       "      <td>1</td>\n",
       "      <td>0</td>\n",
       "      <td>0</td>\n",
       "      <td>1</td>\n",
       "      <td>9.02</td>\n",
       "      <td>13.635</td>\n",
       "      <td>80</td>\n",
       "      <td>0.0</td>\n",
       "      <td>8</td>\n",
       "      <td>32</td>\n",
       "      <td>40</td>\n",
       "    </tr>\n",
       "    <tr>\n",
       "      <th>2</th>\n",
       "      <td>2011-01-01 02:00:00</td>\n",
       "      <td>1</td>\n",
       "      <td>0</td>\n",
       "      <td>0</td>\n",
       "      <td>1</td>\n",
       "      <td>9.02</td>\n",
       "      <td>13.635</td>\n",
       "      <td>80</td>\n",
       "      <td>0.0</td>\n",
       "      <td>5</td>\n",
       "      <td>27</td>\n",
       "      <td>32</td>\n",
       "    </tr>\n",
       "    <tr>\n",
       "      <th>3</th>\n",
       "      <td>2011-01-01 03:00:00</td>\n",
       "      <td>1</td>\n",
       "      <td>0</td>\n",
       "      <td>0</td>\n",
       "      <td>1</td>\n",
       "      <td>9.84</td>\n",
       "      <td>14.395</td>\n",
       "      <td>75</td>\n",
       "      <td>0.0</td>\n",
       "      <td>3</td>\n",
       "      <td>10</td>\n",
       "      <td>13</td>\n",
       "    </tr>\n",
       "    <tr>\n",
       "      <th>4</th>\n",
       "      <td>2011-01-01 04:00:00</td>\n",
       "      <td>1</td>\n",
       "      <td>0</td>\n",
       "      <td>0</td>\n",
       "      <td>1</td>\n",
       "      <td>9.84</td>\n",
       "      <td>14.395</td>\n",
       "      <td>75</td>\n",
       "      <td>0.0</td>\n",
       "      <td>0</td>\n",
       "      <td>1</td>\n",
       "      <td>1</td>\n",
       "    </tr>\n",
       "  </tbody>\n",
       "</table>\n",
       "</div>"
      ],
      "text/plain": [
       "              datetime  season  holiday  workingday  weather  temp   atemp  \\\n",
       "0  2011-01-01 00:00:00       1        0           0        1  9.84  14.395   \n",
       "1  2011-01-01 01:00:00       1        0           0        1  9.02  13.635   \n",
       "2  2011-01-01 02:00:00       1        0           0        1  9.02  13.635   \n",
       "3  2011-01-01 03:00:00       1        0           0        1  9.84  14.395   \n",
       "4  2011-01-01 04:00:00       1        0           0        1  9.84  14.395   \n",
       "\n",
       "   humidity  windspeed  casual  registered  count  \n",
       "0        81        0.0       3          13     16  \n",
       "1        80        0.0       8          32     40  \n",
       "2        80        0.0       5          27     32  \n",
       "3        75        0.0       3          10     13  \n",
       "4        75        0.0       0           1      1  "
      ]
     },
     "execution_count": 15,
     "metadata": {},
     "output_type": "execute_result"
    }
   ],
   "source": [
    "bike.head()"
   ]
  },
  {
   "cell_type": "code",
   "execution_count": 16,
   "id": "dca72544-48ae-41e2-bf19-00974bf5ac74",
   "metadata": {},
   "outputs": [],
   "source": [
    "stat,p = stats.ttest_1samp(bike['temp'], popmean=20)"
   ]
  },
  {
   "cell_type": "code",
   "execution_count": 17,
   "id": "c4bcee47-4741-485b-8cb1-7cecf3c9f932",
   "metadata": {
    "tags": []
   },
   "outputs": [
    {
     "name": "stdout",
     "output_type": "stream",
     "text": [
      "0.0019971246609168593\n"
     ]
    }
   ],
   "source": [
    "print(p) #답 2"
   ]
  },
  {
   "cell_type": "markdown",
   "id": "7053194c-a701-40a3-9891-7f1243b3f753",
   "metadata": {},
   "source": [
    "문제 2. 2011년 1월의 데이터를 대상으로 동 시간대의 casual과 registered의 평균 차이 검정시 통계량은>"
   ]
  },
  {
   "cell_type": "code",
   "execution_count": 18,
   "id": "dcf3bef7-8d59-493e-bc27-023378feebc7",
   "metadata": {},
   "outputs": [
    {
     "name": "stdout",
     "output_type": "stream",
     "text": [
      "<class 'pandas.core.frame.DataFrame'>\n",
      "RangeIndex: 10886 entries, 0 to 10885\n",
      "Data columns (total 12 columns):\n",
      " #   Column      Non-Null Count  Dtype  \n",
      "---  ------      --------------  -----  \n",
      " 0   datetime    10886 non-null  object \n",
      " 1   season      10886 non-null  int64  \n",
      " 2   holiday     10886 non-null  int64  \n",
      " 3   workingday  10886 non-null  int64  \n",
      " 4   weather     10886 non-null  int64  \n",
      " 5   temp        10886 non-null  float64\n",
      " 6   atemp       10886 non-null  float64\n",
      " 7   humidity    10886 non-null  int64  \n",
      " 8   windspeed   10886 non-null  float64\n",
      " 9   casual      10886 non-null  int64  \n",
      " 10  registered  10886 non-null  int64  \n",
      " 11  count       10886 non-null  int64  \n",
      "dtypes: float64(3), int64(8), object(1)\n",
      "memory usage: 1020.7+ KB\n"
     ]
    }
   ],
   "source": [
    "bike.info()"
   ]
  },
  {
   "cell_type": "code",
   "execution_count": 19,
   "id": "ce3f8f8e-3044-430d-bb3d-e508b163673d",
   "metadata": {},
   "outputs": [],
   "source": [
    "bike.datetime = bike['datetime']"
   ]
  },
  {
   "cell_type": "code",
   "execution_count": 20,
   "id": "161c7d55-3d84-4e40-b77f-b67eea64aaa9",
   "metadata": {},
   "outputs": [],
   "source": [
    "bike['month'] = bike['datetime'].str.slice(0,7)"
   ]
  },
  {
   "cell_type": "code",
   "execution_count": 21,
   "id": "8bb5bc88-15df-46f3-a978-15d994503b9c",
   "metadata": {},
   "outputs": [
    {
     "data": {
      "text/plain": [
       "0        2011-01\n",
       "1        2011-01\n",
       "2        2011-01\n",
       "3        2011-01\n",
       "4        2011-01\n",
       "          ...   \n",
       "10881    2012-12\n",
       "10882    2012-12\n",
       "10883    2012-12\n",
       "10884    2012-12\n",
       "10885    2012-12\n",
       "Name: month, Length: 10886, dtype: object"
      ]
     },
     "execution_count": 21,
     "metadata": {},
     "output_type": "execute_result"
    }
   ],
   "source": [
    "bike['month']"
   ]
  },
  {
   "cell_type": "code",
   "execution_count": 22,
   "id": "a948b258-152d-46f1-90d5-c17bda652712",
   "metadata": {},
   "outputs": [],
   "source": [
    "bike_1 =bike[bike['month'].isin(['2011-01'])]"
   ]
  },
  {
   "cell_type": "code",
   "execution_count": 23,
   "id": "ac993616-a059-4b57-af63-d66a10349793",
   "metadata": {},
   "outputs": [
    {
     "data": {
      "text/plain": [
       "Ttest_relResult(statistic=-21.409875120262452, pvalue=9.427438846135679e-70)"
      ]
     },
     "execution_count": 23,
     "metadata": {},
     "output_type": "execute_result"
    }
   ],
   "source": [
    "stats.ttest_rel(bike_1['casual'],bike_1['registered']) 답#21"
   ]
  },
  {
   "cell_type": "markdown",
   "id": "b650610f-f620-4a13-854e-bb5df9cb158b",
   "metadata": {},
   "source": [
    "문제 03. 주중과 주말의 registered 평균 검정 시 검정 통계량"
   ]
  },
  {
   "cell_type": "code",
   "execution_count": 24,
   "id": "7a5f263a-db07-427a-9e1e-318d65b7b3a7",
   "metadata": {},
   "outputs": [],
   "source": [
    "bike['datetime']= pd.to_datetime(bike['datetime'])"
   ]
  },
  {
   "cell_type": "code",
   "execution_count": 30,
   "id": "cd7da51d-6e49-48e8-a762-6848943539f2",
   "metadata": {},
   "outputs": [],
   "source": [
    "bike['day_of_week'] = bike['datetime'].dt.dayofweek"
   ]
  },
  {
   "cell_type": "code",
   "execution_count": 33,
   "id": "f30a21e0-50db-4257-bbcb-8bef7bb68aef",
   "metadata": {},
   "outputs": [
    {
     "data": {
      "text/plain": [
       "5    1584\n",
       "6    1579\n",
       "3    1553\n",
       "0    1551\n",
       "2    1551\n",
       "1    1539\n",
       "4    1529\n",
       "Name: day_of_week, dtype: int64"
      ]
     },
     "execution_count": 33,
     "metadata": {},
     "output_type": "execute_result"
    }
   ],
   "source": [
    "bike['day_of_week'].value_counts() #5,6 주말"
   ]
  },
  {
   "cell_type": "code",
   "execution_count": 35,
   "id": "a774d482-4e8d-48e4-8807-f3c0fb823fab",
   "metadata": {},
   "outputs": [],
   "source": [
    "import numpy as np\n",
    "bike['dist'] = np.where(bike['day_of_week']>=5 ,1,0)"
   ]
  },
  {
   "cell_type": "code",
   "execution_count": 38,
   "id": "d66fc65c-a6f8-4efb-9e45-7875182f6cdd",
   "metadata": {},
   "outputs": [],
   "source": [
    "bike_s = bike.loc[bike['dist']==1,:]"
   ]
  },
  {
   "cell_type": "code",
   "execution_count": 39,
   "id": "f9470ba3-ec91-40e8-96f7-f8a9c9ce607b",
   "metadata": {},
   "outputs": [],
   "source": [
    "bike_m = bike.loc[bike['dist']==0,:]"
   ]
  },
  {
   "cell_type": "code",
   "execution_count": 40,
   "id": "a3540454-a600-45d2-a47a-bc111a159581",
   "metadata": {},
   "outputs": [
    {
     "data": {
      "text/plain": [
       "Ttest_indResult(statistic=-12.073330032201106, pvalue=2.3856774433804352e-33)"
      ]
     },
     "execution_count": 40,
     "metadata": {},
     "output_type": "execute_result"
    }
   ],
   "source": [
    "stats.ttest_ind(bike_s['registered'],bike_m['registered']) #답 -12"
   ]
  },
  {
   "cell_type": "code",
   "execution_count": null,
   "id": "26b8b441-8e42-45fc-949b-83991dede7a5",
   "metadata": {},
   "outputs": [],
   "source": []
  }
 ],
 "metadata": {
  "kernelspec": {
   "display_name": "Python 3 (ipykernel)",
   "language": "python",
   "name": "python3"
  },
  "language_info": {
   "codemirror_mode": {
    "name": "ipython",
    "version": 3
   },
   "file_extension": ".py",
   "mimetype": "text/x-python",
   "name": "python",
   "nbconvert_exporter": "python",
   "pygments_lexer": "ipython3",
   "version": "3.9.7"
  },
  "widgets": {
   "application/vnd.jupyter.widget-state+json": {
    "state": {},
    "version_major": 2,
    "version_minor": 0
   }
  }
 },
 "nbformat": 4,
 "nbformat_minor": 5
}
