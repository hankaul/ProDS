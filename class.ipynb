{
 "cells": [
  {
   "cell_type": "code",
   "execution_count": 9,
   "id": "e5b4d5b6-5999-44eb-991b-9542304fd39f",
   "metadata": {},
   "outputs": [],
   "source": [
    "    result1 = 0\n",
    "    result2 = 0 \n",
    "    def add(num):\n",
    "        global result\n",
    "        result = result + num\n",
    "        return result\n",
    "\n",
    "    def add2(num):\n",
    "        global result2\n",
    "        result2 = result2 + num\n",
    "        return result2\n",
    "\n",
    "    #두 개의 계산기\n",
    "    #하나의 계산기와 다른 하나의 계산기가 각각 다른 값을 계산하고 싶을 때"
   ]
  },
  {
   "cell_type": "code",
   "execution_count": 5,
   "id": "e89b9d73-9125-4ef5-879d-b9c4b55c64c5",
   "metadata": {},
   "outputs": [
    {
     "data": {
      "text/plain": [
       "5"
      ]
     },
     "execution_count": 5,
     "metadata": {},
     "output_type": "execute_result"
    }
   ],
   "source": [
    "add(5)"
   ]
  },
  {
   "cell_type": "code",
   "execution_count": 6,
   "id": "18a3e98a-7c82-4b40-9fb3-613bcbedb116",
   "metadata": {},
   "outputs": [
    {
     "data": {
      "text/plain": [
       "11"
      ]
     },
     "execution_count": 6,
     "metadata": {},
     "output_type": "execute_result"
    }
   ],
   "source": [
    "add(6)"
   ]
  },
  {
   "cell_type": "code",
   "execution_count": 4,
   "id": "f8240ab4-137e-4f6b-8392-b6f340a8f59e",
   "metadata": {},
   "outputs": [],
   "source": [
    "class Calculator:\n",
    "    \n",
    "    def __init__(self):\n",
    "        self.result = 0\n",
    "    def add(self,num):\n",
    "        self.result = self.result + num\n",
    "        return self.result\n",
    "    \n",
    "class FourCal:\n",
    "    pass"
   ]
  },
  {
   "cell_type": "code",
   "execution_count": 5,
   "id": "ff307c0b-f5a0-4791-aeb7-05ffd76be974",
   "metadata": {},
   "outputs": [
    {
     "data": {
      "text/plain": [
       "1"
      ]
     },
     "execution_count": 5,
     "metadata": {},
     "output_type": "execute_result"
    }
   ],
   "source": [
    "cal1 = Calculator()\n",
    "cal2 = Calculator()\n",
    "cal1.add(1)\n",
    "#설계도로  만든 결과물이 cal1에 저장"
   ]
  },
  {
   "cell_type": "code",
   "execution_count": 35,
   "id": "a99f22c1-afd0-41ea-bbd7-4b213beccec8",
   "metadata": {},
   "outputs": [],
   "source": [
    "class FourCal:\n",
    "    def __init__(self,first,second): #클래스를 처음 실행될 때 처음으로 수행\n",
    "        self.first = first\n",
    "        self.second = second\n",
    "    def add(self):\n",
    "        result = self.first + self.second\n",
    "        return result\n",
    "\n"
   ]
  },
  {
   "cell_type": "code",
   "execution_count": 36,
   "id": "ea667808-b88e-4c25-8409-95fe90bb65b8",
   "metadata": {},
   "outputs": [
    {
     "data": {
      "text/plain": [
       "7"
      ]
     },
     "execution_count": 36,
     "metadata": {},
     "output_type": "execute_result"
    }
   ],
   "source": [
    "a.add()"
   ]
  },
  {
   "cell_type": "markdown",
   "id": "d13d0a6d-0589-4ce1-b5b3-0f99a6ebf024",
   "metadata": {},
   "source": [
    "### 클래스 상속\n",
    "클래스를 다시 활용하기 위함"
   ]
  },
  {
   "cell_type": "code",
   "execution_count": 37,
   "id": "570158c3-41b0-4b22-8018-06743c8e552e",
   "metadata": {},
   "outputs": [],
   "source": [
    "class MoreFourCal(FourCal):\n",
    "    pass\n",
    "a = MoreFourCal(4,2)"
   ]
  },
  {
   "cell_type": "code",
   "execution_count": 39,
   "id": "18e3bf0e-7e24-4b45-bfca-ec7a7761426f",
   "metadata": {},
   "outputs": [
    {
     "data": {
      "text/plain": [
       "6"
      ]
     },
     "execution_count": 39,
     "metadata": {},
     "output_type": "execute_result"
    }
   ],
   "source": [
    "a.add()"
   ]
  },
  {
   "cell_type": "code",
   "execution_count": 43,
   "id": "3978894a-ef02-4f9f-9c35-ba4567faa078",
   "metadata": {},
   "outputs": [],
   "source": [
    "#자식 매서드 변형\n",
    "#매서드 오버라이딩 : 동일 함수일 경우 자식우선\n",
    "class MoreFourCal(FourCal):\n",
    "    def pow(self):\n",
    "        result = self.first ** self.second\n",
    "        return result\n",
    "#"
   ]
  },
  {
   "cell_type": "code",
   "execution_count": 48,
   "id": "de528066-1015-4435-afcd-9ca29aebfe5b",
   "metadata": {},
   "outputs": [
    {
     "data": {
      "text/plain": [
       "16"
      ]
     },
     "execution_count": 48,
     "metadata": {},
     "output_type": "execute_result"
    }
   ],
   "source": [
    "a = MoreFourCal(4,2)\n",
    "a.pow()"
   ]
  },
  {
   "cell_type": "code",
   "execution_count": 49,
   "id": "d5faee6e-7d13-43b5-b82e-203e530b9e58",
   "metadata": {},
   "outputs": [],
   "source": [
    "#클래스 변수 객체변수\n",
    "class FourCal:\n",
    "    first =2 # -> 클래스 변수 : 클래스에 공통적으로 적용되는 변수\n",
    "    second =3\n",
    "    def __init__(self,third,fourth): #클래스를 처음 실행될 때 처음으로 수행\n",
    "        self.third = third\n",
    "        self.fourth = fourth"
   ]
  },
  {
   "cell_type": "code",
   "execution_count": 56,
   "id": "8f9b1f86-9775-433f-b41e-1898cb222bd1",
   "metadata": {},
   "outputs": [
    {
     "name": "stdout",
     "output_type": "stream",
     "text": [
      "2 2 3 third\n"
     ]
    }
   ],
   "source": [
    "a = FourCal(3,4)\n",
    "b = FourCal(\"third\",\"fourth\")\n",
    "print(a.first,b.first,a.third,b.third)"
   ]
  },
  {
   "cell_type": "code",
   "execution_count": 58,
   "id": "63b12563-5c6d-4d13-be44-84116e66e9b0",
   "metadata": {},
   "outputs": [
    {
     "data": {
      "text/plain": [
       "6"
      ]
     },
     "execution_count": 58,
     "metadata": {},
     "output_type": "execute_result"
    }
   ],
   "source": [
    "MoreFourCal(4,2).add()"
   ]
  },
  {
   "cell_type": "code",
   "execution_count": 59,
   "id": "12713c08-a862-42f8-9edd-223f56f25a9f",
   "metadata": {},
   "outputs": [
    {
     "name": "stdout",
     "output_type": "stream",
     "text": [
      "division by zero\n"
     ]
    }
   ],
   "source": [
    "try:\n",
    "    4/0\n",
    "except ZeroDivisionError as e:\n",
    "    print(e)"
   ]
  },
  {
   "cell_type": "code",
   "execution_count": 61,
   "id": "8b4e5749-8f4a-4d3c-af7c-94c81cd6f8cc",
   "metadata": {},
   "outputs": [
    {
     "name": "stdout",
     "output_type": "stream",
     "text": [
      "[Errno 2] No such file or directory: 'none'\n"
     ]
    }
   ],
   "source": [
    "try :\n",
    "    f = open('none','r')\n",
    "except FileNotFoundError as e:\n",
    "    print(str(e))\n",
    "else:\n",
    "    data = f.read()\n",
    "    print(data)\n",
    "    f.close()"
   ]
  },
  {
   "cell_type": "code",
   "execution_count": 76,
   "id": "4fe4fbb2-4f95-4d3b-a21e-21cb06df9871",
   "metadata": {},
   "outputs": [],
   "source": [
    "try:\n",
    "    a=[1,2]\n",
    "    print(a[3])\n",
    "    4/0\n",
    "except ZeroDivisionError:\n",
    "    print(\"0으로 나눌 수 없습니다.\")\n",
    "except IndexError:\n",
    "    pass"
   ]
  },
  {
   "cell_type": "code",
   "execution_count": 67,
   "id": "a056a79f-db6d-4366-8791-8f9f3a7cf82e",
   "metadata": {},
   "outputs": [],
   "source": [
    "try:\n",
    "    f=open('나없는파일','r')\n",
    "except FileNotFoundError:\n",
    "           pass"
   ]
  },
  {
   "cell_type": "code",
   "execution_count": 70,
   "id": "d50873c5-2be0-4b0d-a2c6-21c96ccc6d74",
   "metadata": {},
   "outputs": [
    {
     "name": "stdout",
     "output_type": "stream",
     "text": [
      "list index out of range\n"
     ]
    }
   ],
   "source": [
    "try:\n",
    "    a=[1,2]\n",
    "    print(a[3])\n",
    "    4/0\n",
    "except (IndexError) as e:\n",
    "    print(e)"
   ]
  },
  {
   "cell_type": "code",
   "execution_count": 77,
   "id": "046df78c-b610-4f73-b376-8c59983494f3",
   "metadata": {},
   "outputs": [],
   "source": [
    "class Bird:\n",
    "    def fly(self):\n",
    "        raise NotImplementedError\n",
    "\n",
    "class Eagle(Bird):\n",
    "    def fly(self):\n",
    "        print('very fast')"
   ]
  },
  {
   "cell_type": "code",
   "execution_count": 80,
   "id": "49e7af78-4e9b-428b-a0a4-d82bf14e9f2a",
   "metadata": {},
   "outputs": [],
   "source": [
    "a = Bird()"
   ]
  },
  {
   "cell_type": "code",
   "execution_count": 81,
   "id": "a1844cc1-7e95-4429-8409-a09c9704a2ce",
   "metadata": {},
   "outputs": [
    {
     "data": {
      "text/plain": [
       "<__main__.Bird at 0x2505ce7aa60>"
      ]
     },
     "execution_count": 81,
     "metadata": {},
     "output_type": "execute_result"
    }
   ],
   "source": [
    "a"
   ]
  },
  {
   "cell_type": "code",
   "execution_count": 82,
   "id": "5de75988-a050-4e51-8622-ea1dbde880b9",
   "metadata": {},
   "outputs": [
    {
     "ename": "NotImplementedError",
     "evalue": "",
     "output_type": "error",
     "traceback": [
      "\u001b[1;31m---------------------------------------------------------------------------\u001b[0m",
      "\u001b[1;31mNotImplementedError\u001b[0m                       Traceback (most recent call last)",
      "\u001b[1;32m~\\AppData\\Local\\Temp/ipykernel_4692/1276318713.py\u001b[0m in \u001b[0;36m<module>\u001b[1;34m\u001b[0m\n\u001b[1;32m----> 1\u001b[1;33m \u001b[0ma\u001b[0m\u001b[1;33m.\u001b[0m\u001b[0mfly\u001b[0m\u001b[1;33m(\u001b[0m\u001b[1;33m)\u001b[0m\u001b[1;33m\u001b[0m\u001b[1;33m\u001b[0m\u001b[0m\n\u001b[0m",
      "\u001b[1;32m~\\AppData\\Local\\Temp/ipykernel_4692/2003976150.py\u001b[0m in \u001b[0;36mfly\u001b[1;34m(self)\u001b[0m\n\u001b[0;32m      1\u001b[0m \u001b[1;32mclass\u001b[0m \u001b[0mBird\u001b[0m\u001b[1;33m:\u001b[0m\u001b[1;33m\u001b[0m\u001b[1;33m\u001b[0m\u001b[0m\n\u001b[0;32m      2\u001b[0m     \u001b[1;32mdef\u001b[0m \u001b[0mfly\u001b[0m\u001b[1;33m(\u001b[0m\u001b[0mself\u001b[0m\u001b[1;33m)\u001b[0m\u001b[1;33m:\u001b[0m\u001b[1;33m\u001b[0m\u001b[1;33m\u001b[0m\u001b[0m\n\u001b[1;32m----> 3\u001b[1;33m         \u001b[1;32mraise\u001b[0m \u001b[0mNotImplementedError\u001b[0m\u001b[1;33m\u001b[0m\u001b[1;33m\u001b[0m\u001b[0m\n\u001b[0m\u001b[0;32m      4\u001b[0m \u001b[1;33m\u001b[0m\u001b[0m\n\u001b[0;32m      5\u001b[0m \u001b[1;32mclass\u001b[0m \u001b[0mEagle\u001b[0m\u001b[1;33m(\u001b[0m\u001b[0mBird\u001b[0m\u001b[1;33m)\u001b[0m\u001b[1;33m:\u001b[0m\u001b[1;33m\u001b[0m\u001b[1;33m\u001b[0m\u001b[0m\n",
      "\u001b[1;31mNotImplementedError\u001b[0m: "
     ]
    }
   ],
   "source": [
    "a.fly()"
   ]
  },
  {
   "cell_type": "code",
   "execution_count": 83,
   "id": "1b7d28e7-bdee-49ea-a6a5-f7ec16331cfe",
   "metadata": {},
   "outputs": [],
   "source": [
    "b = Eagle()"
   ]
  },
  {
   "cell_type": "code",
   "execution_count": 84,
   "id": "b3f918f2-6478-42bc-826c-b3d3d0970c1f",
   "metadata": {},
   "outputs": [
    {
     "name": "stdout",
     "output_type": "stream",
     "text": [
      "very fast\n"
     ]
    }
   ],
   "source": [
    "b.fly()"
   ]
  },
  {
   "cell_type": "code",
   "execution_count": 85,
   "id": "20ad1eb5-994b-4aac-93a6-0dabec183001",
   "metadata": {},
   "outputs": [
    {
     "name": "stdout",
     "output_type": "stream",
     "text": [
      "0 body\n",
      "1 foo\n",
      "2 bar\n"
     ]
    }
   ],
   "source": [
    "for i, name in enumerate(['body','foo','bar']):\n",
    "    print(i,name)"
   ]
  },
  {
   "cell_type": "code",
   "execution_count": 92,
   "id": "1f75d939-1e69-48d7-9437-0c7e71ee9d53",
   "metadata": {},
   "outputs": [
    {
     "ename": "TypeError",
     "evalue": "'enumerate' object is not subscriptable",
     "output_type": "error",
     "traceback": [
      "\u001b[1;31m---------------------------------------------------------------------------\u001b[0m",
      "\u001b[1;31mTypeError\u001b[0m                                 Traceback (most recent call last)",
      "\u001b[1;32m~\\AppData\\Local\\Temp/ipykernel_4692/3543079551.py\u001b[0m in \u001b[0;36m<module>\u001b[1;34m\u001b[0m\n\u001b[1;32m----> 1\u001b[1;33m \u001b[0menumerate\u001b[0m\u001b[1;33m(\u001b[0m\u001b[1;33m[\u001b[0m\u001b[1;34m'body'\u001b[0m\u001b[1;33m,\u001b[0m\u001b[1;34m'foo'\u001b[0m\u001b[1;33m,\u001b[0m\u001b[1;34m'bar'\u001b[0m\u001b[1;33m]\u001b[0m\u001b[1;33m)\u001b[0m\u001b[1;33m[\u001b[0m\u001b[1;36m0\u001b[0m\u001b[1;33m]\u001b[0m\u001b[1;33m\u001b[0m\u001b[1;33m\u001b[0m\u001b[0m\n\u001b[0m",
      "\u001b[1;31mTypeError\u001b[0m: 'enumerate' object is not subscriptable"
     ]
    }
   ],
   "source": [
    "enumerate(['body','foo','bar'])[0]\n"
   ]
  },
  {
   "cell_type": "code",
   "execution_count": 96,
   "id": "73feb6be-68d6-4944-8464-dd1de6671ca0",
   "metadata": {},
   "outputs": [
    {
     "name": "stdout",
     "output_type": "stream",
     "text": [
      "[1, 2, 5]\n"
     ]
    }
   ],
   "source": [
    "def positive(x):\n",
    "    return x>0\n",
    "\n",
    "a = list(filter(positive,[1,-3,2,0,5,-7]))\n",
    "print(a)"
   ]
  },
  {
   "cell_type": "code",
   "execution_count": 99,
   "id": "cc41459c-6292-4799-866a-6d71089f4d9c",
   "metadata": {},
   "outputs": [
    {
     "name": "stdout",
     "output_type": "stream",
     "text": [
      "[1, 2, 5]\n"
     ]
    }
   ],
   "source": [
    "a = list(filter(lambda x:x>0,[1,-3,2,0,5,-7]))\n",
    "print(a)"
   ]
  },
  {
   "cell_type": "code",
   "execution_count": 102,
   "id": "816161a9-3078-4304-9633-d622da66d4c5",
   "metadata": {},
   "outputs": [
    {
     "name": "stdout",
     "output_type": "stream",
     "text": [
      "[2, 4, 6, 8]\n"
     ]
    }
   ],
   "source": [
    "def two_times(x): \n",
    "    return x*2\n",
    "\n",
    "a = list(map(two_times,[1,2,3,4]))\n",
    "#a= list(map(lambda a: a*2,[1,2,3,4]))\n",
    "print(a)"
   ]
  },
  {
   "cell_type": "code",
   "execution_count": null,
   "id": "9ec1e067-79c6-4627-9d31-bd00df590915",
   "metadata": {},
   "outputs": [],
   "source": []
  }
 ],
 "metadata": {
  "kernelspec": {
   "display_name": "Python 3 (ipykernel)",
   "language": "python",
   "name": "python3"
  },
  "language_info": {
   "codemirror_mode": {
    "name": "ipython",
    "version": 3
   },
   "file_extension": ".py",
   "mimetype": "text/x-python",
   "name": "python",
   "nbconvert_exporter": "python",
   "pygments_lexer": "ipython3",
   "version": "3.9.7"
  },
  "widgets": {
   "application/vnd.jupyter.widget-state+json": {
    "state": {},
    "version_major": 2,
    "version_minor": 0
   }
  }
 },
 "nbformat": 4,
 "nbformat_minor": 5
}
